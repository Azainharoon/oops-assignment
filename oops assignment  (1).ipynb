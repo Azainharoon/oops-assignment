{
 "cells": [
  {
   "cell_type": "code",
   "execution_count": 52,
   "id": "7a5bb7b4-1374-449f-9663-2bd91a32888f",
   "metadata": {},
   "outputs": [],
   "source": [
    "#theory questions"
   ]
  },
  {
   "cell_type": "code",
   "execution_count": null,
   "id": "0f9226c1-8747-4fcf-a8aa-eafc8388d3ee",
   "metadata": {},
   "outputs": [],
   "source": [
    "\"\"\" \n",
    "Q1 What is an object in OOP?\n",
    "ANS. An object in OOP is an instance of a class. It represents a specific example that possesses all the attributes (data) and methods (functions)\n",
    "    defined in the class. Objects are what we actually work with in a program — they hold real values and perform actions.\n",
    "    \n",
    "Q2. What is the difference between abstraction and encapsulation?\n",
    "ANS. Abstraction focuses on hiding complexity and showing only essential details.\n",
    "     Encapsulation focuses on hiding data and restricting access to ensure controlled interaction.\n",
    "Q3. What are dunder methods in Python?\n",
    "ANS. \"Dunder\" stands for \"Double UNDERscore\" (e.g., __init__, __str__). These are special methods with double underscores before and after their\n",
    "    names that let you customize class behavior.\n",
    "Q4. Explain the concept of inheritance in OOP?\n",
    "ANS Inheritance allows a class (child class) to inherit attributes and methods from another class (parent class). This helps reuse code and\n",
    "    extend functionality.\n",
    "\n",
    "Q5. What is polymorphism in OOP?\n",
    "ANS Polymorphism means \"many forms\" — it allows methods in different classes to share the same name but behave differently.\n",
    "\n",
    "Q6 How is encapsulation achieved in Python+\n",
    "ANS. Encapsulation is achieved using public, protected (_var), and private (__var) attributes to control access.\n",
    "\n",
    "Q7 What is a constructor in Python?\n",
    "ANS A constructor (__init__) is a special method that automatically initializes an object when it’s created\n",
    "\n",
    "Q8 What are class and static methods in Python?\n",
    "ANS Class methods (@classmethod) work on the class itself (cls).\n",
    "    Static methods (@staticmethod) don’t depend on class or instance data — they're like utilities.\n",
    "    \n",
    "Q9 What is method overloading in Python?\n",
    "ANS Method overloading allows one method to handle different numbers or types of arguments using *args or default values\n",
    "\n",
    "Q10 What is method overriding in OOP?\n",
    "ANS Method overriding allows a child class to change a method inherited from the parent class.\n",
    "\n",
    "Q11 What is a property decorator in Python?\n",
    "ANSThe @property decorator makes a method behave like an attribute, allowing controlled access to data.\n",
    "\n",
    "Q12 Why is polymorphism important in OOP?\n",
    "ANS Polymorphism increases flexibility, reusability, and extensibility by allowing the same interface for different data types.\n",
    "\n",
    "Q13 What is an abstract class in Python?\n",
    "ANS An abstract class (from abc module) defines methods that must be implemented by its child classes.\n",
    "\n",
    "Q14 What are the advantages of OOP?\n",
    "ANS Reusability\n",
    "    Encapsulation\n",
    "    Polymorphism\n",
    "    Modularity\n",
    "    Maintainability\n",
    "    \n",
    "Q15 What is the difference between a class variable and an instance variable?\n",
    "ANS Class variable: Shared by all objects (defined outside methods).\n",
    "    Instance variable: Unique to each object . \n",
    "    \n",
    "Q15 What is multiple inheritance in Python?\n",
    "ANS Multiple inheritance allows a class to inherit from more than one parent class\n",
    "\"\"\""
   ]
  },
  {
   "cell_type": "code",
   "execution_count": 51,
   "id": "e288b37f-a927-46e2-933e-0d1264ba7d06",
   "metadata": {},
   "outputs": [
    {
     "name": "stdout",
     "output_type": "stream",
     "text": [
      "Bark\n"
     ]
    }
   ],
   "source": [
    "#Q1. Create a parent class Animal with a method speak() that prints a generic message. Create a child class Dog that overrides the speak() method to print \"Bark!\".?\n",
    "class Animal :\n",
    "    def speak(self):\n",
    "        print(\"This is an animal sound \")\n",
    "class Dog(Animal):\n",
    "    def speak (self):\n",
    "        print(\"Bark\")\n",
    "a= Dog()\n",
    "a.speak()"
   ]
  },
  {
   "cell_type": "code",
   "execution_count": 39,
   "id": "f257a94b-fad1-4a25-be86-c4715f67707f",
   "metadata": {},
   "outputs": [
    {
     "name": "stdout",
     "output_type": "stream",
     "text": [
      "78.5 is area of circle \n"
     ]
    }
   ],
   "source": [
    "#Q2. Write a program to create an abstract class Shape with a method area(). Derive classes Circle and Rectangle from it and implement the area() method in both?\n",
    "import abc\n",
    "class Shape(abc.ABC) :\n",
    "    @abc.abstractmethod\n",
    "    def area(self):\n",
    "        pass\n",
    "        \n",
    "class Circle(Shape):\n",
    "    def __init__(self,r) :\n",
    "        self.r=r\n",
    "\n",
    "    def area (self):\n",
    "        a= 3.14* self.r**2\n",
    "        return f\"{a} is area of circle \"\n",
    "        \n",
    "class Rectangle(Shape):\n",
    "    def __init__(self,l,b) :\n",
    "        self.l=l\n",
    "        self.b=b\n",
    "    def area(self):\n",
    "        a=  self.l*self.b\n",
    "        return f\"{a} is area of rectangle \"\n",
    "c=Circle(5)\n",
    "print(c.area())"
   ]
  },
  {
   "cell_type": "code",
   "execution_count": 31,
   "id": "f0a93437-d283-4be9-a6ca-2f135b6db2f1",
   "metadata": {},
   "outputs": [
    {
     "name": "stdout",
     "output_type": "stream",
     "text": [
      "8 is area of rectangle \n"
     ]
    }
   ],
   "source": [
    "R= Rectangle(2,4)\n",
    "print(R.area())"
   ]
  },
  {
   "cell_type": "code",
   "execution_count": 3,
   "id": "ff763f54-a36e-4d89-8893-1ee7cdc94324",
   "metadata": {},
   "outputs": [
    {
     "name": "stdout",
     "output_type": "stream",
     "text": [
      "Vehicle type: Electric\n",
      "Car brand: harrier\n",
      "Battery capacity: 75 kWh\n"
     ]
    }
   ],
   "source": [
    "#Q3 Implement a multi-level inheritance scenario where a class Vehicle has an attribute type. Derive a class Car and further derive a class ElectricCar that adds a battery attribute.\n",
    "class Vehicle:\n",
    "    def __init__(self, type):\n",
    "        self.type = type\n",
    "\n",
    "    def display_type(self):\n",
    "        print(f\"Vehicle type: {self.type}\")\n",
    "\n",
    "class Car(Vehicle):\n",
    "    def __init__(self, type, brand):\n",
    "        super().__init__(type)\n",
    "        self.brand = brand\n",
    "\n",
    "    def display_car_info(self):\n",
    "        print(f\"Car brand: {self.brand}\")\n",
    "\n",
    "class ElectricCar(Car):\n",
    "    def __init__(self, type, brand, battery):\n",
    "        super().__init__(type, brand)\n",
    "        self.battery = battery\n",
    "\n",
    "    def display_electric_car_info(self):\n",
    "        print(f\"Battery capacity: {self.battery} kWh\")\n",
    "\n",
    "my_harrier = ElectricCar(\"Electric\", \"harrier\", 75)\n",
    "\n",
    "my_harrier.display_type()  # From Vehicle\n",
    "my_harrier.display_car_info()  # From Car\n",
    "my_harrier.display_electric_car_info()  # From ElectricCar\n",
    "    "
   ]
  },
  {
   "cell_type": "code",
   "execution_count": 6,
   "id": "a4e13047-b44b-43d2-8869-e51679d4a53a",
   "metadata": {},
   "outputs": [
    {
     "name": "stdout",
     "output_type": "stream",
     "text": [
      "Sparrows fly high!\n",
      "Penguins can't fly, but they swim!\n"
     ]
    }
   ],
   "source": [
    "#Q4 Demonstrate polymorphism by creating a base class Bird with a method fly(). Create two derived classes Sparrow and Penguin that override the fly() method.\n",
    "class Bird:\n",
    "    def fly(self):\n",
    "        print(\"Birds can fly.\")\n",
    "\n",
    "class Sparrow(Bird):\n",
    "    def fly(self):\n",
    "        print(\"Sparrows fly high!\")\n",
    "\n",
    "class Penguin(Bird):\n",
    "    def fly(self):\n",
    "        print(\"Penguins can't fly, but they swim!\")\n",
    "\n",
    "# Polymorphism in action\n",
    "birds = [Sparrow(), Penguin()]\n",
    "\n",
    "for bird in birds:\n",
    "    bird.fly()"
   ]
  },
  {
   "cell_type": "code",
   "execution_count": 45,
   "id": "140ee9d3-8c7c-46ad-9e6c-73954d16cd87",
   "metadata": {},
   "outputs": [
    {
     "name": "stdout",
     "output_type": "stream",
     "text": [
      "Deposited INR1000. New balance: INR2000\n",
      "Withdrew INR2000. Remaining balance: INR0\n",
      "Current balance: 0\n"
     ]
    }
   ],
   "source": [
    "#Q5 . Write a program to demonstrate encapsulation by creating a class BankAccount with private attributes balance and methods to deposit, withdraw, and check balance.\n",
    "\n",
    "class BankAccount:\n",
    "    def __init__(self, balance):\n",
    "        self.__balance = balance\n",
    "\n",
    "    def deposit(self, amount):\n",
    "        if amount > 0:\n",
    "            self.__balance += amount\n",
    "            return f\"Deposited INR{amount}. New balance: INR{self.__balance}\"\n",
    "        else:\n",
    "            return \"Deposit amount must be positive.\"\n",
    "            \n",
    "    def withdraw(self, amount):\n",
    "        if 0 < amount <= self.__balance:\n",
    "            self.__balance -= amount\n",
    "            return f\"Withdrew INR{amount}. Remaining balance: INR{self.__balance}\"\n",
    "        else:\n",
    "            return \"Insufficient balance or invalid amount.\"\n",
    "\n",
    "    def check_balance(self):\n",
    "        return f\"Current balance: {self.__balance}\"\n",
    "\n",
    "c = BankAccount(1000)\n",
    "print(c.deposit(1000))        \n",
    "print(c.withdraw(2000))        \n",
    "print(c.check_balance())       \n"
   ]
  },
  {
   "cell_type": "code",
   "execution_count": 48,
   "id": "fe47c5b0-f215-47b7-aa78-ad52c19ba508",
   "metadata": {},
   "outputs": [
    {
     "name": "stdout",
     "output_type": "stream",
     "text": [
      "This is guitar info\n",
      "This is piano info\n"
     ]
    }
   ],
   "source": [
    "#Q6. Demonstrate runtime polymorphism using a method play() in a base class Instrument. Derive classes Guitar and Piano that implement their own version of play().\n",
    "class Instrument:\n",
    "    def play(self):\n",
    "        print(\"this is instrument info\")\n",
    "class Guitar(Instrument):\n",
    "    def play(self):\n",
    "        print(\"This is guitar info\")\n",
    "class Piano (Instrument):\n",
    "    def play(self):\n",
    "        print(\"This is piano info\")\n",
    "instruments= [Guitar(),Piano()]\n",
    "for i in instruments :\n",
    "    i.play()"
   ]
  },
  {
   "cell_type": "code",
   "execution_count": 60,
   "id": "f23aa2ae-34d8-478b-af0b-744e789a6014",
   "metadata": {},
   "outputs": [
    {
     "data": {
      "text/plain": [
       "5"
      ]
     },
     "execution_count": 60,
     "metadata": {},
     "output_type": "execute_result"
    }
   ],
   "source": [
    "#Q7. Create a class Math Operations with a class method add_numbers() to add two numbers and a static method subtract_numbers() to subtract two numbers.\n",
    "class Mathoperations :\n",
    "    def add_numbers(self,x,y):\n",
    "        return x+y\n",
    "    @staticmethod\n",
    "    def subtract_numbers(x,y):\n",
    "        return x-y\n",
    "Mathoperations.subtract_numbers(3,1)"
   ]
  },
  {
   "cell_type": "code",
   "execution_count": 61,
   "id": "8dc2c77a-eb01-47fe-8699-19335f697427",
   "metadata": {},
   "outputs": [
    {
     "data": {
      "text/plain": [
       "5"
      ]
     },
     "execution_count": 61,
     "metadata": {},
     "output_type": "execute_result"
    }
   ],
   "source": [
    "a=Mathoperations()\n",
    "a.add_numbers(2,3)"
   ]
  },
  {
   "cell_type": "code",
   "execution_count": 62,
   "id": "b4edfad3-a3ab-40e5-a54b-5a28a6901f28",
   "metadata": {},
   "outputs": [
    {
     "name": "stdout",
     "output_type": "stream",
     "text": [
      "Total number of persons created: 3\n"
     ]
    }
   ],
   "source": [
    "#Q8 Implement a class Person with a class method to count the total number of persons created.\n",
    "class Person:\n",
    "    total_persons = 0\n",
    "\n",
    "    def __init__(self, name):\n",
    "        self.name = name\n",
    "        Person.total_persons += 1  # Increment the count each time a new Person is created\n",
    "\n",
    "    @classmethod\n",
    "    def count_persons(cls):\n",
    "        return f\"Total number of persons created: {cls.total_persons}\"\n",
    "\n",
    "p1 = Person(\"Alice\")\n",
    "p2 = Person(\"Bob\")\n",
    "p3 = Person(\"Charlie\")\n",
    "\n",
    "print(Person.count_persons())"
   ]
  },
  {
   "cell_type": "code",
   "execution_count": 10,
   "id": "4b1ba561-9343-4f18-b812-1aeeafeee3d5",
   "metadata": {},
   "outputs": [
    {
     "name": "stdout",
     "output_type": "stream",
     "text": [
      "2/3\n"
     ]
    }
   ],
   "source": [
    " #Q9 Write a class Fraction with attributes numerator and denominator. Override the str method to display the fraction as \"numerator/denominator\".?\n",
    "class Fraction:\n",
    "    def __init__(self,numerator,denominator):\n",
    "        self.numerator = numerator\n",
    "        self.denominator= denominator\n",
    "    def __str__(self):\n",
    "        return f\"{self.numerator}/{self.denominator}\"\n",
    "print(Fraction(2,3))"
   ]
  },
  {
   "cell_type": "code",
   "execution_count": 50,
   "id": "590496dc-f3c1-42e3-9eae-d219e7d3bee5",
   "metadata": {},
   "outputs": [
    {
     "name": "stdout",
     "output_type": "stream",
     "text": [
      "Vector 1: (2, 3)\n",
      "Vector 2: (4, 1)\n",
      "Vector Sum: (6, 4)\n"
     ]
    }
   ],
   "source": [
    "#Q10. Demonstrate operator overloading by creating a class Vector and overriding the add method to add two vectors.\n",
    "class Vector:\n",
    "    def __init__(self, x, y):\n",
    "        self.x = x\n",
    "        self.y = y\n",
    "\n",
    "    def __add__(self, other):\n",
    "        return Vector(self.x + other.x, self.y + other.y)\n",
    "\n",
    "    def __str__(self):\n",
    "        return f\"({self.x}, {self.y})\"\n",
    "\n",
    "v1 = Vector(2, 3)\n",
    "v2 = Vector(4, 1)\n",
    "v3 = v1 + v2  \n",
    "print(f\"Vector 1: {v1}\")\n",
    "print(f\"Vector 2: {v2}\")\n",
    "print(f\"Vector Sum: {v3}\")"
   ]
  },
  {
   "cell_type": "code",
   "execution_count": 25,
   "id": "f8413f6f-9fa5-4ea5-946f-acaadfa14b18",
   "metadata": {},
   "outputs": [
    {
     "data": {
      "text/plain": [
       "20.0"
      ]
     },
     "execution_count": 25,
     "metadata": {},
     "output_type": "execute_result"
    }
   ],
   "source": [
    "#Q11 Implement a class Student with attributes name and grades. Create a method average_grade() to compute the average of the grades.?\n",
    "class Student:\n",
    "    def __init__(self,name,grades):\n",
    "        self.name=name\n",
    "        self.grades=grades\n",
    "        \n",
    "    def average_grade(self): \n",
    "        return sum(self.grades)/len(self.grades)\n",
    "c= Student('AZAIN',[10,20,30])\n",
    "c.average_grade()"
   ]
  },
  {
   "cell_type": "code",
   "execution_count": 46,
   "id": "97ad818e-782e-4c01-a436-4ab379f8c85d",
   "metadata": {},
   "outputs": [
    {
     "name": "stdout",
     "output_type": "stream",
     "text": [
      "Hello, my name is Azain and I am 22 years old.\n"
     ]
    }
   ],
   "source": [
    "#Q12 Create a class Person with attributes name and age. Add a method greet() that prints \"Hello, my name is {name} and I am {age} years old.\"\n",
    "class Person:\n",
    "    def __init__(self, name, age):\n",
    "        self.name = name\n",
    "        self.age = age\n",
    "\n",
    "    def greet(self):\n",
    "        print(f\"Hello, my name is {self.name} and I am {self.age} years old.\")\n",
    "\n",
    "# Example usage\n",
    "p = Person(\"Azain\", 22)\n",
    "p.greet()"
   ]
  },
  {
   "cell_type": "code",
   "execution_count": 47,
   "id": "23e79d48-1a8a-4afa-9ee1-7e9268b74d37",
   "metadata": {},
   "outputs": [
    {
     "name": "stdout",
     "output_type": "stream",
     "text": [
      "The area of the rectangle is 6\n"
     ]
    }
   ],
   "source": [
    "#Q13 Create a class Rectangle with methods set_dimensions() to set the dimensions and area() to calculate the area.\n",
    "class Rectangle:\n",
    "    def set_dimensions(self, length, breadth):\n",
    "        self.length = length\n",
    "        self.breadth = breadth\n",
    "\n",
    "    def area(self):\n",
    "        return f\"The area of the rectangle is {self.length * self.breadth}\"\n",
    "\n",
    "# Example usage\n",
    "c = Rectangle()\n",
    "c.set_dimensions(2, 3)\n",
    "print(c.area())"
   ]
  },
  {
   "cell_type": "code",
   "execution_count": 48,
   "id": "d654c404-2b9f-49c2-8492-812d3ade9791",
   "metadata": {},
   "outputs": [
    {
     "name": "stdout",
     "output_type": "stream",
     "text": [
      "The salary is 800\n",
      "The total salary with bonus is 1300\n"
     ]
    }
   ],
   "source": [
    "#Q14 Create a class Employee with a method calculate_salary() that computes the salary based on hours worked and hourly rate. Create a derived class Manager that adds a bonus to the salary.\n",
    "class Employee:\n",
    "    def calculate_salary(self, hours, hourly_rate):\n",
    "        self.hours = hours\n",
    "        self.hourly_rate = hourly_rate\n",
    "        self.salary = self.hours * self.hourly_rate\n",
    "        return f\"The salary is {self.salary}\"\n",
    "\n",
    "class Manager(Employee):\n",
    "    def __init__(self, bonus):\n",
    "        self.bonus = bonus\n",
    "\n",
    "    def calculate_salary(self, hours, hourly_rate):\n",
    "        base_salary = super().calculate_salary(hours, hourly_rate)\n",
    "        total_salary = (self.hours * self.hourly_rate) + self.bonus\n",
    "        return f\"The total salary with bonus is {total_salary}\"\n",
    "        \n",
    "e = Employee()\n",
    "print(e.calculate_salary(40, 20))  \n",
    "\n",
    "m = Manager(500)\n",
    "print(m.calculate_salary(40, 20))  "
   ]
  },
  {
   "cell_type": "code",
   "execution_count": null,
   "id": "50125cbf-84a0-40e6-9905-03ebe9afd8d7",
   "metadata": {},
   "outputs": [],
   "source": []
  }
 ],
 "metadata": {
  "kernelspec": {
   "display_name": "Python 3 (ipykernel)",
   "language": "python",
   "name": "python3"
  },
  "language_info": {
   "codemirror_mode": {
    "name": "ipython",
    "version": 3
   },
   "file_extension": ".py",
   "mimetype": "text/x-python",
   "name": "python",
   "nbconvert_exporter": "python",
   "pygments_lexer": "ipython3",
   "version": "3.13.2"
  }
 },
 "nbformat": 4,
 "nbformat_minor": 5
}
